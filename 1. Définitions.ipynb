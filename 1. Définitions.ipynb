{
 "cells": [
  {
   "cell_type": "markdown",
   "metadata": {},
   "source": [
    "### Apprentissage supervisé    \n",
    "On classe un nouvel élément à partir de données **étiquettées**.\n",
    "\n",
    "##### Régression    \n",
    "On utilise des valeurs discrètes en entrée, on prédit des valeurs continues en sortie.\n",
    "\n",
    "ex. : régression linéaire, régression quadratique.\n",
    "\n",
    "###### Classification\n",
    "\n",
    "On utilise des valeurs discrètes en entrée, on prédit des valeurs discrètes en sortie.\n",
    "\n",
    "### Apprentissage non-supervisé \n",
    "\n",
    "On cherche des structures sous jacentes à partir de données **non-étiquettées**. \n",
    "On va extraire des classes d'individus présentant des caractéristiques communes.\n",
    "\n",
    "C'est ce qui est souvent utilisé en machine learning.\n",
    "\n",
    "##### K-Moyennes (K-Means)\n",
    "Il s'agit de méthodes de partitionnement\n",
    "\n",
    "##### Regroupement hiérarchique"
   ]
  },
  {
   "cell_type": "code",
   "execution_count": null,
   "metadata": {},
   "outputs": [],
   "source": []
  }
 ],
 "metadata": {
  "kernelspec": {
   "display_name": "Python 3",
   "language": "python",
   "name": "python3"
  },
  "language_info": {
   "codemirror_mode": {
    "name": "ipython",
    "version": 3
   },
   "file_extension": ".py",
   "mimetype": "text/x-python",
   "name": "python",
   "nbconvert_exporter": "python",
   "pygments_lexer": "ipython3",
   "version": "3.8.0"
  }
 },
 "nbformat": 4,
 "nbformat_minor": 4
}
